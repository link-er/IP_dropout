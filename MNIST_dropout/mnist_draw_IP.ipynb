{
 "cells": [
  {
   "cell_type": "code",
   "execution_count": null,
   "id": "0ea56929",
   "metadata": {},
   "outputs": [],
   "source": [
    "import numpy as np\n",
    "from pathlib import Path\n",
    "import pickle\n",
    "import math\n",
    "import random\n",
    "from collections import OrderedDict\n",
    "\n",
    "import sys\n",
    "sys.path.append('../')\n",
    "\n",
    "from mi_estimators.EDGE_4_3_1 import EDGE\n",
    "from mi_estimators.npeet.entropy_estimators import midd\n",
    "from mi_estimators.dropout_MI import gaussian_noise_mi\n",
    "\n",
    "from tqdm import *\n",
    "\n",
    "import matplotlib\n",
    "matplotlib.use('TkAgg')\n",
    "\n",
    "import matplotlib.pyplot as plt\n",
    "import matplotlib.gridspec as gridspec\n",
    "import seaborn as sns\n",
    "sns.set_style('darkgrid')"
   ]
  },
  {
   "cell_type": "code",
   "execution_count": null,
   "id": "8ef5a4f7",
   "metadata": {},
   "outputs": [],
   "source": [
    "ip_data = Path(\"IP\") # have IP data ready when information dropout is used\n",
    "repr_data = Path(\"representations\") # representations saved for computing MI\n",
    "\n",
    "netw = \"LeNet\"\n",
    "\n",
    "p = 0.01\n",
    "drp_noise = p/(1-p)"
   ]
  },
  {
   "cell_type": "markdown",
   "id": "107698d9",
   "metadata": {},
   "source": [
    "### Draw for information dropout"
   ]
  },
  {
   "cell_type": "code",
   "execution_count": null,
   "id": "8b09f09a",
   "metadata": {},
   "outputs": [],
   "source": [
    "def drawIP(mi_xz, mi_zy, title):\n",
    "    gs = gridspec.GridSpec(4,2)\n",
    "\n",
    "    COLORBAR_MAX_EPOCHS=100\n",
    "    sm = plt.cm.ScalarMappable(cmap='gnuplot', norm=plt.Normalize(vmin=0, vmax=COLORBAR_MAX_EPOCHS))\n",
    "\n",
    "    n_epoch = len(list(mi_xz.keys()))\n",
    "    PLOT_LAYERS = [0]\n",
    "    for epoch in range(n_epoch):\n",
    "        c = sm.to_rgba(epoch)\n",
    "        # we saved optimized value (with information dropout), need to add -0.5*log(2*pi*e)-log(c),\n",
    "        # where c is defining the log-uniform distribution of the ReLU prior\n",
    "        xmvals = mi_xz[epoch] #- 0.5*np.log(2*math.pi*math.e)\n",
    "        # we saved crossentropy value - lower bound on MI is -crossentropy + H(Y)\n",
    "        ymvals = -mi_zy[epoch] + np.log(10)\n",
    "        #plt.plot(xmvals, ymvals, c=c, alpha=0.5, zorder=1)\n",
    "        plt.scatter(xmvals, ymvals, s=20, facecolors=[c for _ in PLOT_LAYERS], edgecolor='none', zorder=2) \n",
    "    #plt.ylim([1, 3.5])\n",
    "    #plt.xlim([4, 14])\n",
    "    plt.xlabel('I(X;Z)')\n",
    "    plt.ylabel('I(Y;Z)')\n",
    "    plt.title(title)\n",
    "    plt.colorbar(sm, label='Epoch')\n",
    "    plt.tight_layout()\n",
    "    plt.show()"
   ]
  },
  {
   "cell_type": "code",
   "execution_count": null,
   "id": "5adbdd08",
   "metadata": {},
   "outputs": [],
   "source": [
    "val_mi_xz = pickle.load(open(ip_data / \"val_mi_xz\", \"rb\"))\n",
    "val_mi_zy = pickle.load(open(ip_data / \"val_mi_zy\", \"rb\"))"
   ]
  },
  {
   "cell_type": "code",
   "execution_count": null,
   "id": "501a56ee",
   "metadata": {},
   "outputs": [],
   "source": [
    "drawIP(val_mi_xz, val_mi_zy, 'Information dropout, '+netw+' (validation)')"
   ]
  },
  {
   "cell_type": "code",
   "execution_count": null,
   "id": "d7dbc5bf",
   "metadata": {},
   "outputs": [],
   "source": [
    "train_mi_xz = pickle.load(open(ip_data / \"train_mi_xz\", \"rb\"))\n",
    "train_mi_zy = pickle.load(open(ip_data / \"train_mi_zy\", \"rb\"))"
   ]
  },
  {
   "cell_type": "code",
   "execution_count": null,
   "id": "7cdd8597",
   "metadata": {},
   "outputs": [],
   "source": [
    "drawIP(train_mi_xz, train_mi_zy, 'Information dropout, '+netw+' (training)')"
   ]
  },
  {
   "cell_type": "markdown",
   "id": "e47848d6",
   "metadata": {},
   "source": [
    "### Draw the estimations"
   ]
  },
  {
   "cell_type": "code",
   "execution_count": null,
   "id": "0c19158a",
   "metadata": {},
   "outputs": [],
   "source": [
    "def drawIP(mi_xz, mi_zy, title, crossentropy_zy=True):\n",
    "    gs = gridspec.GridSpec(4,2)\n",
    "\n",
    "    COLORBAR_MAX_EPOCHS=list(mi_xz.keys())[-1]\n",
    "    sm = plt.cm.ScalarMappable(cmap='gnuplot', norm=plt.Normalize(vmin=0, vmax=COLORBAR_MAX_EPOCHS))\n",
    "\n",
    "    PLOT_LAYERS = [0]\n",
    "    for epoch in list(mi_xz.keys()):\n",
    "        c = sm.to_rgba(epoch)\n",
    "        xmvals = mi_xz[epoch]\n",
    "        if crossentropy_zy:\n",
    "            # we saved crossentropy value - lower bound on MI is -crossentropy + H(Y)\n",
    "            ymvals = -mi_zy[epoch] + np.log(10)\n",
    "        else:\n",
    "            ymvals = mi_zy[epoch]\n",
    "        plt.scatter(xmvals, ymvals, s=20, facecolors=[c for _ in PLOT_LAYERS], edgecolor='none', zorder=2) \n",
    "    ax = plt.gca()\n",
    "    ax.get_yaxis().get_major_formatter().set_useOffset(False)\n",
    "    plt.xlabel('I(X;Z)')\n",
    "    plt.ylabel('I(Y;Z)')\n",
    "    plt.title(title)\n",
    "    plt.colorbar(sm, label='Epoch')\n",
    "    plt.tight_layout()\n",
    "    plt.show()"
   ]
  },
  {
   "cell_type": "code",
   "execution_count": null,
   "id": "04b5d82a",
   "metadata": {},
   "outputs": [],
   "source": [
    "if (repr_data / \"test_comp_mi_xz\").exists():\n",
    "    test_comp_mi_xz = pickle.load(open(repr_data / \"test_comp_mi_xz\", \"rb\"))\n",
    "    test_comp_mi_zy = pickle.load(open(repr_data / \"test_comp_mi_zy\", \"rb\"))\n",
    "    train_comp_mi_xz = pickle.load(open(repr_data / \"train_comp_mi_xz\", \"rb\"))\n",
    "    train_comp_mi_zy = pickle.load(open(repr_data / \"train_comp_mi_zy\", \"rb\"))\n",
    "else:    \n",
    "    test_comp_mi_xz = {}\n",
    "    test_comp_mi_zy = {}\n",
    "    train_comp_mi_xz = {}\n",
    "    train_comp_mi_zy = {}\n",
    "\n",
    "    test_labels = np.load(repr_data / \"test_labels.npy\")\n",
    "    train_labels = np.load(repr_data / \"train_labels.npy\")\n",
    "    \n",
    "    train_repeat = 1\n",
    "    test_repeat = 6\n",
    "\n",
    "    for f in repr_data.iterdir():\n",
    "        f = str(f)\n",
    "        if \"test_representations\" in f:\n",
    "            print(f)\n",
    "            epoch = int(f.split(\".\")[0].split(\"_\")[-1])\n",
    "            nonoise_reprs = np.load(f, allow_pickle=True)\n",
    "            nonoise_reprs, ind = np.unique(nonoise_reprs, axis=0, return_index=True)\n",
    "            reprs = []\n",
    "            for nr in nonoise_reprs:\n",
    "                for i in range(test_repeat):\n",
    "                    epsilon = np.random.randn(nonoise_reprs.shape[1]) * drp_noise + 1\n",
    "                    reprs.append(nr*epsilon)\n",
    "            reprs = np.array(reprs)\n",
    "            test_comp_mi_xz[epoch] = gaussian_noise_mi(reprs, nonoise_reprs, drp_noise)\n",
    "            test_comp_mi_zy[epoch] = EDGE(reprs, np.repeat(np.array(test_labels[ind]), test_repeat))\n",
    "            print(test_comp_mi_xz[epoch], test_comp_mi_zy[epoch])\n",
    "\n",
    "        if \"train_representations\" in f:\n",
    "            print(f)\n",
    "            epoch = int(f.split(\".\")[0].split(\"_\")[-1])\n",
    "            nonoise_reprs = np.load(f, allow_pickle=True)\n",
    "            reprs = []\n",
    "            for nr in nonoise_reprs:\n",
    "                for i in range(train_repeat):\n",
    "                    epsilon = np.random.randn(nonoise_reprs.shape[1]) * drp_noise + 1\n",
    "                    reprs.append(nr*epsilon)\n",
    "            reprs = np.array(reprs)\n",
    "            train_comp_mi_xz[epoch] = gaussian_noise_mi(reprs, nonoise_reprs, drp_noise)\n",
    "            train_comp_mi_zy[epoch] = EDGE(reprs, np.repeat(train_labels, train_repeat))\n",
    "            print(train_comp_mi_xz[epoch], train_comp_mi_zy[epoch])"
   ]
  },
  {
   "cell_type": "code",
   "execution_count": null,
   "id": "365dfdf1",
   "metadata": {},
   "outputs": [],
   "source": [
    "if not (repr_data / \"test_comp_mi_xz\").exists():\n",
    "    pickle.dump(test_comp_mi_xz, open(repr_data / \"test_comp_mi_xz\", \"wb\"))\n",
    "    pickle.dump(test_comp_mi_zy, open(repr_data / \"test_comp_mi_zy\", \"wb\"))\n",
    "    pickle.dump(train_comp_mi_xz, open(repr_data / \"train_comp_mi_xz\", \"wb\"))\n",
    "    pickle.dump(train_comp_mi_zy, open(repr_data / \"train_comp_mi_zy\", \"wb\"))"
   ]
  },
  {
   "cell_type": "code",
   "execution_count": null,
   "id": "c6a9f42b",
   "metadata": {},
   "outputs": [],
   "source": [
    "od_test_comp_mi_xz = OrderedDict(sorted(test_comp_mi_xz.items()))\n",
    "od_test_comp_mi_zy = OrderedDict(sorted(test_comp_mi_zy.items()))\n",
    "drawIP(od_test_comp_mi_xz, od_test_comp_mi_zy, 'Gaussian dropout, '+netw+' (validation)', crossentropy_zy=False)"
   ]
  },
  {
   "cell_type": "code",
   "execution_count": null,
   "id": "d70fa71a",
   "metadata": {},
   "outputs": [],
   "source": [
    "drawIP(od_test_comp_mi_xz, val_mi_zy, 'Gaussian dropout, '+netw+' (validation)', crossentropy_zy=True)"
   ]
  },
  {
   "cell_type": "code",
   "execution_count": null,
   "id": "e3b5975b",
   "metadata": {},
   "outputs": [],
   "source": [
    "od_train_comp_mi_xz = OrderedDict(sorted(train_comp_mi_xz.items()))\n",
    "od_train_comp_mi_zy = OrderedDict(sorted(train_comp_mi_zy.items()))\n",
    "drawIP(od_train_comp_mi_xz, od_train_comp_mi_zy, 'Gaussian dropout, '+netw+' (training)', crossentropy_zy=False)"
   ]
  },
  {
   "cell_type": "code",
   "execution_count": null,
   "id": "205cbd8e",
   "metadata": {},
   "outputs": [],
   "source": [
    "drawIP(od_train_comp_mi_xz, train_mi_zy, 'Gaussian dropout, '+netw+' (training)', crossentropy_zy=True)"
   ]
  },
  {
   "cell_type": "markdown",
   "id": "c4689f1a",
   "metadata": {},
   "source": [
    "### Binning IP"
   ]
  },
  {
   "cell_type": "code",
   "execution_count": null,
   "id": "d6d40e35",
   "metadata": {},
   "outputs": [],
   "source": [
    "def create_bins(min_bound, max_bound, num_of_bins=None, bin_size=None):\n",
    "    if bin_size is not None:\n",
    "        bins = np.arange(min_bound, max_bound, bin_size, dtype='float32')\n",
    "    elif num_of_bins is not None:\n",
    "        bins = np.linspace(min_bound, max_bound, num_of_bins, dtype='float32')\n",
    "    else:\n",
    "        print(\"Computation error; set either bin size or number of bins to a value\")\n",
    "        return None\n",
    "    return bins"
   ]
  },
  {
   "cell_type": "code",
   "execution_count": null,
   "id": "fd9b9b3c",
   "metadata": {},
   "outputs": [],
   "source": [
    "def double_bin_calc_information(inputdata, layerdata, num_of_bins=None, bin_size=None):\n",
    "    bins_inp = create_bins(inputdata.min(), inputdata.max(), num_of_bins=num_of_bins, bin_size=bin_size)\n",
    "    digitized_inp = bins_inp[np.digitize(np.squeeze(inputdata.reshape(1, -1)), bins_inp) - 1].reshape(len(inputdata), -1)\n",
    "\n",
    "    bins_rep = create_bins(layerdata.min(), layerdata.max(), num_of_bins=num_of_bins, bin_size=bin_size)\n",
    "    digitized_rep = bins_rep[np.digitize(np.squeeze(layerdata.reshape(1, -1)), bins_rep) - 1].reshape(len(layerdata), -1)\n",
    "\n",
    "    return midd(digitized_inp, digitized_rep, base=np.exp(1))"
   ]
  },
  {
   "cell_type": "code",
   "execution_count": null,
   "id": "847efa11",
   "metadata": {},
   "outputs": [],
   "source": [
    "if (repr_data / \"test_bin_mi_xz\").exists():\n",
    "    test_bin_mi_xz = pickle.load(open(repr_data / \"test_bin_mi_xz\", \"rb\"))\n",
    "    test_bin_mi_zy = pickle.load(open(repr_data / \"test_bin_mi_zy\", \"rb\"))\n",
    "    train_bin_mi_xz = pickle.load(open(repr_data / \"train_bin_mi_xz\", \"rb\"))\n",
    "    train_bin_mi_zy = pickle.load(open(repr_data / \"train_bin_mi_zy\", \"rb\"))\n",
    "else:\n",
    "    test_bin_mi_xz = {}\n",
    "    test_bin_mi_zy = {}\n",
    "    train_bin_mi_xz = {}\n",
    "    train_bin_mi_zy = {}\n",
    "\n",
    "    test_inputs = np.load(repr_data / \"test_inputs.npy\")\n",
    "    test_inputs = test_inputs.reshape(test_inputs.shape[0], -1)\n",
    "    test_labels = np.load(repr_data / \"test_labels.npy\")\n",
    "    train_inputs = np.load(repr_data / \"train_inputs.npy\")\n",
    "    train_inputs = train_inputs.reshape(train_inputs.shape[0], -1)\n",
    "    train_labels = np.load(repr_data / \"train_labels.npy\")\n",
    "    \n",
    "    train_repeat = 1\n",
    "    test_repeat = 6\n",
    "\n",
    "    for f in repr_data.iterdir():\n",
    "        f = str(f)\n",
    "        if \"test_representations\" in f:\n",
    "            print(f)\n",
    "            epoch = int(f.split(\".\")[0].split(\"_\")[-1])            \n",
    "            nonoise_reprs = np.load(f)\n",
    "            nonoise_reprs, ind = np.unique(nonoise_reprs, axis=0, return_index=True)\n",
    "            reprs = []\n",
    "            for nr in nonoise_reprs:\n",
    "                for i in range(test_repeat):\n",
    "                    epsilon = np.random.randn(nonoise_reprs.shape[1]) * drp_noise + 1\n",
    "                    reprs.append(nr*epsilon)\n",
    "            reprs = np.array(reprs)\n",
    "            test_bin_mi_xz[epoch] = double_bin_calc_information(np.repeat(np.array(test_inputs[ind]), test_repeat, axis=0), \n",
    "                                                                reprs, num_of_bins=3)\n",
    "            test_bin_mi_zy[epoch] = double_bin_calc_information(np.repeat(np.array(test_labels[ind]), test_repeat), \n",
    "                                                                reprs, num_of_bins=3)\n",
    "            print(test_bin_mi_xz[epoch], test_bin_mi_zy[epoch])\n",
    "\n",
    "        if \"train_representations\" in f:\n",
    "            print(f)\n",
    "            epoch = int(f.split(\".\")[0].split(\"_\")[-1])\n",
    "            nonoise_reprs = np.load(f)\n",
    "            reprs = []\n",
    "            for nr in nonoise_reprs:\n",
    "                for i in range(train_repeat):\n",
    "                    epsilon = np.random.randn(nonoise_reprs.shape[1]) * drp_noise + 1\n",
    "                    reprs.append(nr*epsilon)\n",
    "            reprs = np.array(reprs)\n",
    "            train_bin_mi_xz[epoch] = double_bin_calc_information(np.repeat(np.array(train_inputs), train_repeat, axis=0), \n",
    "                                                                 reprs, num_of_bins=3)\n",
    "            train_bin_mi_zy[epoch] = double_bin_calc_information(np.repeat(np.array(train_labels), train_repeat, axis=0), \n",
    "                                                                 reprs, num_of_bins=3)\n",
    "            print(train_bin_mi_xz[epoch], train_bin_mi_zy[epoch])"
   ]
  },
  {
   "cell_type": "code",
   "execution_count": null,
   "id": "adc4da59",
   "metadata": {},
   "outputs": [],
   "source": [
    "if not (repr_data / \"test_bin_mi_xz\").exists():\n",
    "    pickle.dump(test_bin_mi_xz, open(repr_data / \"test_bin_mi_xz\", \"wb\"))\n",
    "    pickle.dump(test_bin_mi_zy, open(repr_data / \"test_bin_mi_zy\", \"wb\"))\n",
    "    pickle.dump(train_bin_mi_xz, open(repr_data / \"train_bin_mi_xz\", \"wb\"))\n",
    "    pickle.dump(train_bin_mi_zy, open(repr_data / \"train_bin_mi_zy\", \"wb\"))"
   ]
  },
  {
   "cell_type": "code",
   "execution_count": null,
   "id": "1a37585a",
   "metadata": {},
   "outputs": [],
   "source": [
    "od_test_bin_mi_xz = OrderedDict(sorted(test_bin_mi_xz.items()))\n",
    "od_test_bin_mi_zy = OrderedDict(sorted(test_bin_mi_zy.items()))\n",
    "drawIP(od_test_bin_mi_xz, od_test_bin_mi_zy, 'Gaussian dropout + binning, '+netw+' (validation)', crossentropy_zy=False)"
   ]
  },
  {
   "cell_type": "code",
   "execution_count": null,
   "id": "d0218f6e",
   "metadata": {},
   "outputs": [],
   "source": [
    "od_train_bin_mi_xz = OrderedDict(sorted(train_bin_mi_xz.items()))\n",
    "od_train_bin_mi_zy = OrderedDict(sorted(train_bin_mi_zy.items()))\n",
    "drawIP(od_train_bin_mi_xz, od_train_bin_mi_zy, 'Gaussian dropout + binning, '+netw+' (training)', crossentropy_zy=False)"
   ]
  },
  {
   "cell_type": "code",
   "execution_count": null,
   "id": "c636ecea",
   "metadata": {},
   "outputs": [],
   "source": []
  }
 ],
 "metadata": {
  "kernelspec": {
   "display_name": "Python 3 (ipykernel)",
   "language": "python",
   "name": "python3"
  },
  "language_info": {
   "codemirror_mode": {
    "name": "ipython",
    "version": 3
   },
   "file_extension": ".py",
   "mimetype": "text/x-python",
   "name": "python",
   "nbconvert_exporter": "python",
   "pygments_lexer": "ipython3",
   "version": "3.9.7"
  }
 },
 "nbformat": 4,
 "nbformat_minor": 5
}
